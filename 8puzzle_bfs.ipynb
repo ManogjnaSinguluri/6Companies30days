{
  "nbformat": 4,
  "nbformat_minor": 0,
  "metadata": {
    "colab": {
      "provenance": [],
      "authorship_tag": "ABX9TyM1V1MpXxq5JrH9fk95mo50",
      "include_colab_link": true
    },
    "kernelspec": {
      "name": "python3",
      "display_name": "Python 3"
    },
    "language_info": {
      "name": "python"
    }
  },
  "cells": [
    {
      "cell_type": "markdown",
      "metadata": {
        "id": "view-in-github",
        "colab_type": "text"
      },
      "source": [
        "<a href=\"https://colab.research.google.com/github/ManogjnaSinguluri/6Companies30days/blob/main/8puzzle_bfs.ipynb\" target=\"_parent\"><img src=\"https://colab.research.google.com/assets/colab-badge.svg\" alt=\"Open In Colab\"/></a>"
      ]
    },
    {
      "cell_type": "code",
      "source": [
        "import copy\n",
        "class Node:\n",
        "    def __init__(self,state,emp_pos,prev_pos,path):\n",
        "        self.state=state\n",
        "        self.emp_pos=emp_pos\n",
        "        self.prev_pos=prev_pos\n",
        "        self.path=path\n",
        "def check_if_solvable(arr):\n",
        "    inv_count = 0\n",
        "    for i in range(3):\n",
        "        for j in range(3):\n",
        "            if arr[i][j] != 0:\n",
        "                for z in range(j+1, 3):\n",
        "                    if arr[i][z] != 0 and arr[i][j] > arr[i][z]:\n",
        "                            inv_count += 1\n",
        "                for x in range(i+1, 3):\n",
        "                    for y in range(0, 3):\n",
        "                        if arr[x][y] != 0 and arr[i][j] > arr[x][y]:\n",
        "                            inv_count += 1\n",
        "    if inv_count%2==0:\n",
        "        return True\n",
        "    return False\n",
        "def next_move(queue):\n",
        "    if len(queue)==0:\n",
        "        print(\"Not solvable!\")\n",
        "        return []\n",
        "    now=queue[0]\n",
        "    queue.pop(0)\n",
        "    solve(now,queue)\n",
        "def solve(node,queue):\n",
        "    if node.state==goal:\n",
        "        print(\"goal found!\")\n",
        "        print(\"Path:\")\n",
        "        for p in node.path:\n",
        "            print(p)\n",
        "        return node.path\n",
        "    i=node.emp_pos[0]\n",
        "    j=node.emp_pos[1]\n",
        "    p1=node.prev_pos[0]\n",
        "    p2=node.prev_pos[1]\n",
        "    if i>0 and (p1!=i-1 or p2!=j):\n",
        "        s=copy.deepcopy(node.state)\n",
        "        s[i][j]=s[i-1][j]\n",
        "        s[i-1][j]=0\n",
        "        if s not in node.path:\n",
        "            l=[]\n",
        "            l.append(i-1)\n",
        "            l.append(j)\n",
        "            p2=node.path[:]\n",
        "            p2.append(s)\n",
        "            new=Node(s,l,node.emp_pos,p2)\n",
        "            queue.append(new)\n",
        "    if i<2 and (p1!=i+1 or p2!=j):\n",
        "        s=copy.deepcopy(node.state)\n",
        "        s[i][j]=s[i+1][j]\n",
        "        s[i+1][j]=0\n",
        "        if s not in node.path:\n",
        "            l=[]\n",
        "            l.append(i+1)\n",
        "            l.append(j)\n",
        "            p2=node.path[:]\n",
        "            p2.append(s)\n",
        "            new=Node(s,l,node.emp_pos,p2)\n",
        "            queue.append(new)\n",
        "    if j>0 and (p1!=i or p2!=j-1):\n",
        "        s=copy.deepcopy(node.state)\n",
        "        s[i][j]=s[i][j-1]\n",
        "        s[i][j-1]=0\n",
        "        if s not in node.path:\n",
        "            l=[]\n",
        "            l.append(i)\n",
        "            l.append(j-1)\n",
        "            p2=node.path[:]\n",
        "            p2.append(s)\n",
        "            new=Node(s,l,node.emp_pos,p2)\n",
        "            queue.append(new)\n",
        "    if j<2 and (p1!=i or p2!=j+1):\n",
        "        s=copy.deepcopy(node.state)\n",
        "        s[i][j]=s[i][j+1]\n",
        "        s[i][j+1]=0\n",
        "        if s not in node.path:\n",
        "            l=[]\n",
        "            l.append(i)\n",
        "            l.append(j+1)\n",
        "            p2=node.path[:]\n",
        "            p2.append(s)\n",
        "            new=Node(s,l,node.emp_pos,p2)\n",
        "            queue.append(new)\n",
        "    next_move(queue)\n",
        "init=[[8,1,2],[0,4,3],[7,6,5]]\n",
        "goal=[[1,2,3],[4,5,6],[7,8,0]]\n",
        "if check_if_solvable(init):\n",
        "    p=[]\n",
        "    p.append(init)\n",
        "    emp=[]\n",
        "    for i in range(3):\n",
        "        for j in range(3):\n",
        "            if init[i][j]==0:\n",
        "                emp.append(i)\n",
        "                emp.append(j)\n",
        "    n=Node(init,emp,[-1,-1],p)\n",
        "    queue=[]\n",
        "    queue.append(n)\n",
        "    next_move(queue)\n",
        "else:\n",
        "    print(\"The state is not solvable!!\")"
      ],
      "metadata": {
        "colab": {
          "base_uri": "https://localhost:8080/"
        },
        "id": "57U1BZF2iEIY",
        "outputId": "f20865fa-b40c-4158-e7c4-94500a6fcee2"
      },
      "execution_count": 2,
      "outputs": [
        {
          "output_type": "stream",
          "name": "stdout",
          "text": [
            "The state is not solvable!!\n"
          ]
        }
      ]
    }
  ]
}